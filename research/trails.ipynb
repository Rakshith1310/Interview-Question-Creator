{
 "cells": [
  {
   "cell_type": "code",
   "execution_count": 52,
   "metadata": {},
   "outputs": [],
   "source": [
    "import os\n",
    "from dotenv import load_dotenv\n",
    "from langchain.document_loaders import PyPDFLoader\n",
    "from langchain.text_splitter import TokenTextSplitter\n",
    "from langchain.docstore.document import Document"
   ]
  },
  {
   "cell_type": "code",
   "execution_count": 44,
   "metadata": {},
   "outputs": [],
   "source": [
    "load_dotenv()\n",
    "apiKey = os.environ.get('OPENAI_API_KEY') # Loading environment variable\n",
    "os.environ['OPENAI_API_KEY'] = apiKey # Loading environment variable into out environment"
   ]
  },
  {
   "cell_type": "code",
   "execution_count": 45,
   "metadata": {},
   "outputs": [],
   "source": [
    "filePath = '../data/SDG.pdf'\n",
    "pdfLoaderObject = PyPDFLoader(filePath)\n",
    "pdfContent = pdfLoaderObject.load()\n",
    "# print(pdfContent)\n",
    "# len(pdfContent) total pages of the pdf"
   ]
  },
  {
   "cell_type": "code",
   "execution_count": 46,
   "metadata": {},
   "outputs": [],
   "source": [
    "question_genetator = \"\"\n",
    "for page in pdfContent:\n",
    "    question_genetator += page.page_content\n",
    "# print(question_genetator)"
   ]
  },
  {
   "cell_type": "code",
   "execution_count": 63,
   "metadata": {},
   "outputs": [],
   "source": [
    "# Model for splitting the pdf, outpus of the method 'TokenTextSplitter' is langchain_text_splitters.base.TokenTextSplitter\n",
    "question_genetator_splitter = TokenTextSplitter(\n",
    "    model_name=\"gpt-3.5-turbo\",\n",
    "    chunk_size=10000,\n",
    "    chunk_overlap = 200\n",
    ")"
   ]
  },
  {
   "cell_type": "code",
   "execution_count": 64,
   "metadata": {},
   "outputs": [],
   "source": [
    "# Using the above token splitter model to split our question sting\n",
    "chunk_of_question_generator = question_genetator_splitter.split_text(question_genetator)\n",
    "\n",
    "#print(chunk_of_question_generator)\n",
    "#print(len(chunk_of_question_generator)) # 1\n",
    "#type(chunk_of_question_generator) # List of string"
   ]
  },
  {
   "cell_type": "markdown",
   "metadata": {},
   "source": [
    "The above output, list of string/s is not a suitable input for embedding model, we need to convert into document format."
   ]
  },
  {
   "cell_type": "code",
   "execution_count": 65,
   "metadata": {},
   "outputs": [],
   "source": [
    "document_question_generator = [Document(page_content = text) for text in chunk_of_question_generator]\n",
    "\n",
    "#print(len(document_question_generator))\n",
    "#print(type(document_question_generator)) # List of Lang Chanin Documents. This we can pass to the embedding model\n"
   ]
  },
  {
   "cell_type": "code",
   "execution_count": 67,
   "metadata": {},
   "outputs": [],
   "source": [
    "question_genetator_splitter_two = TokenTextSplitter(\n",
    "    model_name = 'gpt-3.5-turbo',\n",
    "    chunk_size = 1000,\n",
    "    chunk_overlap = 100\n",
    ")\n",
    "chunk_two_of_question_generator = question_genetator_splitter_two.split_documents(document_question_generator)"
   ]
  },
  {
   "cell_type": "code",
   "execution_count": null,
   "metadata": {},
   "outputs": [],
   "source": []
  }
 ],
 "metadata": {
  "kernelspec": {
   "display_name": "Python 3",
   "language": "python",
   "name": "python3"
  },
  "language_info": {
   "codemirror_mode": {
    "name": "ipython",
    "version": 3
   },
   "file_extension": ".py",
   "mimetype": "text/x-python",
   "name": "python",
   "nbconvert_exporter": "python",
   "pygments_lexer": "ipython3",
   "version": "3.10.14"
  }
 },
 "nbformat": 4,
 "nbformat_minor": 2
}
